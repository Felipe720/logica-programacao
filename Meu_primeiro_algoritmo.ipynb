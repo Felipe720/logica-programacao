{
  "nbformat": 4,
  "nbformat_minor": 0,
  "metadata": {
    "colab": {
      "provenance": [],
      "collapsed_sections": [
        "wH9GHsRtRLCg",
        "t9MuXVhILDbm",
        "sNUzuPLEPrEU",
        "GwQ2mfXquMPS",
        "vz6blV_z27Jq",
        "omT3o3Bispe6",
        "9atO4i_Ju7Am",
        "yZ8igRYDynSq",
        "hOuDUyjvN4ij",
        "C5wD9QURSaiG",
        "gS95S464amsi",
        "1ZJs3_VlBL7k",
        "ErVqygXIB7gm",
        "h1J9HLoWVaE5",
        "ZHjgn6MtVk7A",
        "yu5cmzyQzsGV"
      ]
    },
    "kernelspec": {
      "name": "python3",
      "display_name": "Python 3"
    },
    "language_info": {
      "name": "python"
    }
  },
  "cells": [
    {
      "cell_type": "markdown",
      "source": [
        "#Aula Pyton EBAC"
      ],
      "metadata": {
        "id": "wH9GHsRtRLCg"
      }
    },
    {
      "cell_type": "markdown",
      "source": [
        "##Operadores\n"
      ],
      "metadata": {
        "id": "t9MuXVhILDbm"
      }
    },
    {
      "cell_type": "markdown",
      "source": [
        "###Operadores Aritméticos\n"
      ],
      "metadata": {
        "id": "sNUzuPLEPrEU"
      }
    },
    {
      "cell_type": "code",
      "source": [],
      "metadata": {
        "id": "vV-rUjBFPpcG"
      },
      "execution_count": null,
      "outputs": []
    },
    {
      "cell_type": "code",
      "source": [
        "#Adição\n",
        "5+5"
      ],
      "metadata": {
        "colab": {
          "base_uri": "https://localhost:8080/"
        },
        "id": "s3hN5D8Us8HX",
        "outputId": "920ebaf1-a317-41e5-e528-6daccdceb1e8"
      },
      "execution_count": null,
      "outputs": [
        {
          "output_type": "execute_result",
          "data": {
            "text/plain": [
              "10"
            ]
          },
          "metadata": {},
          "execution_count": 1
        }
      ]
    },
    {
      "cell_type": "code",
      "source": [
        "#Subtração\n",
        "5+5"
      ],
      "metadata": {
        "colab": {
          "base_uri": "https://localhost:8080/"
        },
        "id": "QJ3-xjebtEXu",
        "outputId": "e1eefb03-6150-46c6-e100-95a76bc81634"
      },
      "execution_count": null,
      "outputs": [
        {
          "output_type": "execute_result",
          "data": {
            "text/plain": [
              "10"
            ]
          },
          "metadata": {},
          "execution_count": 3
        }
      ]
    },
    {
      "cell_type": "code",
      "source": [
        "#Multiplicação\n",
        "5*5"
      ],
      "metadata": {
        "colab": {
          "base_uri": "https://localhost:8080/"
        },
        "id": "fmiOwjR-tKYf",
        "outputId": "2802ea7e-6e35-4b21-fdeb-48f8da291ccd"
      },
      "execution_count": null,
      "outputs": [
        {
          "output_type": "execute_result",
          "data": {
            "text/plain": [
              "25"
            ]
          },
          "metadata": {},
          "execution_count": 4
        }
      ]
    },
    {
      "cell_type": "code",
      "source": [
        "#Divisão\n",
        "5/5"
      ],
      "metadata": {
        "colab": {
          "base_uri": "https://localhost:8080/"
        },
        "id": "_F2C3njItPp5",
        "outputId": "6b7a73dd-72a7-4616-a7f9-b22ad7cdbb79"
      },
      "execution_count": null,
      "outputs": [
        {
          "output_type": "execute_result",
          "data": {
            "text/plain": [
              "1.0"
            ]
          },
          "metadata": {},
          "execution_count": 5
        }
      ]
    },
    {
      "cell_type": "code",
      "source": [
        "#Divisão Inteira\n",
        "5//5"
      ],
      "metadata": {
        "colab": {
          "base_uri": "https://localhost:8080/"
        },
        "id": "6DpS4pgqtU8Y",
        "outputId": "af2f1d4a-e443-4e3c-976c-a5a39b22e8ac"
      },
      "execution_count": null,
      "outputs": [
        {
          "output_type": "execute_result",
          "data": {
            "text/plain": [
              "1"
            ]
          },
          "metadata": {},
          "execution_count": 7
        }
      ]
    },
    {
      "cell_type": "code",
      "source": [
        "#Resto da divisão (Quanto sobrou da divisão)\n",
        "5%2"
      ],
      "metadata": {
        "colab": {
          "base_uri": "https://localhost:8080/"
        },
        "id": "aJa24pv-tajP",
        "outputId": "84b2a97c-a509-407b-f571-d34b0545f9da"
      },
      "execution_count": null,
      "outputs": [
        {
          "output_type": "execute_result",
          "data": {
            "text/plain": [
              "1"
            ]
          },
          "metadata": {},
          "execution_count": 8
        }
      ]
    },
    {
      "cell_type": "code",
      "source": [
        "#Potência\n",
        "5**5\n"
      ],
      "metadata": {
        "colab": {
          "base_uri": "https://localhost:8080/"
        },
        "id": "ush8ktnKtwCI",
        "outputId": "9a552151-55fe-4f34-8ef9-0cf3b8e7e3e1"
      },
      "execution_count": null,
      "outputs": [
        {
          "output_type": "execute_result",
          "data": {
            "text/plain": [
              "3125"
            ]
          },
          "metadata": {},
          "execution_count": 4
        }
      ]
    },
    {
      "cell_type": "markdown",
      "source": [
        "###Operadores Relacionais\n"
      ],
      "metadata": {
        "id": "GwQ2mfXquMPS"
      }
    },
    {
      "cell_type": "code",
      "source": [
        "#Maior que\n",
        "5>10"
      ],
      "metadata": {
        "colab": {
          "base_uri": "https://localhost:8080/"
        },
        "id": "R2eXuV2ruTmp",
        "outputId": "16d2ff75-87b1-48c8-defb-ece7310d3c42"
      },
      "execution_count": null,
      "outputs": [
        {
          "output_type": "execute_result",
          "data": {
            "text/plain": [
              "False"
            ]
          },
          "metadata": {},
          "execution_count": 10
        }
      ]
    },
    {
      "cell_type": "code",
      "source": [
        "#Menor que\n",
        "5<10"
      ],
      "metadata": {
        "colab": {
          "base_uri": "https://localhost:8080/"
        },
        "id": "G-6QDvtXud9w",
        "outputId": "1205bb77-9628-4b45-d5b5-9a1e2081d188"
      },
      "execution_count": null,
      "outputs": [
        {
          "output_type": "execute_result",
          "data": {
            "text/plain": [
              "True"
            ]
          },
          "metadata": {},
          "execution_count": 11
        }
      ]
    },
    {
      "cell_type": "code",
      "source": [
        "#Maior ou igual\n",
        "5>=10"
      ],
      "metadata": {
        "colab": {
          "base_uri": "https://localhost:8080/"
        },
        "id": "BzLzlXDMuieW",
        "outputId": "e3701d3c-cb11-430c-b56c-03e8f262c66c"
      },
      "execution_count": null,
      "outputs": [
        {
          "output_type": "execute_result",
          "data": {
            "text/plain": [
              "False"
            ]
          },
          "metadata": {},
          "execution_count": 14
        }
      ]
    },
    {
      "cell_type": "code",
      "source": [
        "#Menor ou igual\n",
        "5<=10"
      ],
      "metadata": {
        "colab": {
          "base_uri": "https://localhost:8080/"
        },
        "id": "QqCkG5xAuqBk",
        "outputId": "25be515e-ff33-4b03-c497-6c0ba1937b65"
      },
      "execution_count": null,
      "outputs": [
        {
          "output_type": "execute_result",
          "data": {
            "text/plain": [
              "True"
            ]
          },
          "metadata": {},
          "execution_count": 15
        }
      ]
    },
    {
      "cell_type": "code",
      "source": [
        "#Igual a\n",
        "5==5"
      ],
      "metadata": {
        "colab": {
          "base_uri": "https://localhost:8080/"
        },
        "id": "H2HjOoeKumC0",
        "outputId": "8a3aa544-4710-4561-f547-fc8df04cfc3c"
      },
      "execution_count": null,
      "outputs": [
        {
          "output_type": "execute_result",
          "data": {
            "text/plain": [
              "True"
            ]
          },
          "metadata": {},
          "execution_count": 16
        }
      ]
    },
    {
      "cell_type": "code",
      "source": [
        "#Diferente de\n",
        "5!=5"
      ],
      "metadata": {
        "colab": {
          "base_uri": "https://localhost:8080/"
        },
        "id": "qIdQ4ZyVvKDj",
        "outputId": "76773c53-a112-42a6-d3ac-2e5e40aedc71"
      },
      "execution_count": null,
      "outputs": [
        {
          "output_type": "execute_result",
          "data": {
            "text/plain": [
              "False"
            ]
          },
          "metadata": {},
          "execution_count": 17
        }
      ]
    },
    {
      "cell_type": "markdown",
      "source": [
        "###Operadores Lógicos\n",
        "* And\n",
        "* Or\n",
        "* Not"
      ],
      "metadata": {
        "id": "Ab_YxBG3vdqv"
      }
    },
    {
      "cell_type": "code",
      "source": [
        "# And\n",
        "print(5 > 2 and 4 < 6)  # V and V = V\n",
        "print(5 > 2 and 4 > 6)  # V and F = F\n",
        "print(5 < 2 and 4 < 6)  # F and V = F\n",
        "print(5 < 2 and 4 > 6)  # F and F = F"
      ],
      "metadata": {
        "colab": {
          "base_uri": "https://localhost:8080/"
        },
        "id": "YZ_jxSN_viZj",
        "outputId": "133e65b1-e092-45f9-bbed-bea779fb7bae"
      },
      "execution_count": null,
      "outputs": [
        {
          "output_type": "stream",
          "name": "stdout",
          "text": [
            "True\n",
            "False\n",
            "False\n",
            "False\n"
          ]
        }
      ]
    },
    {
      "cell_type": "code",
      "source": [
        "# Or\n",
        "print(5 > 2 or 4 < 6)  # V or V = V\n",
        "print(5 > 2 or 4 > 6)  # V or F = V\n",
        "print(5 < 2 or 4 < 6)  # F or V = V\n",
        "print(5 < 2 or 4 > 6)  # F or F = F"
      ],
      "metadata": {
        "colab": {
          "base_uri": "https://localhost:8080/"
        },
        "id": "HzGxdTAIwsc3",
        "outputId": "27064e3d-bb76-4466-c504-04c7813ac1f2"
      },
      "execution_count": null,
      "outputs": [
        {
          "output_type": "stream",
          "name": "stdout",
          "text": [
            "True\n",
            "True\n",
            "True\n",
            "False\n"
          ]
        }
      ]
    },
    {
      "cell_type": "code",
      "source": [
        "# Not\n",
        "print(not 5 > 2)  # V => F\n",
        "print(not 5 < 2)  # F => V\n"
      ],
      "metadata": {
        "colab": {
          "base_uri": "https://localhost:8080/"
        },
        "id": "k0QqiWyrxbp-",
        "outputId": "c56d1008-711d-4c0c-ac8e-ec2ceaf58a12"
      },
      "execution_count": null,
      "outputs": [
        {
          "output_type": "stream",
          "name": "stdout",
          "text": [
            "False\n",
            "True\n"
          ]
        }
      ]
    },
    {
      "cell_type": "markdown",
      "source": [
        "##Variáveis\n",
        "**Case Sensitive A !=a** (diferença entre Maiuscula e Minuscula)\n",
        "\n",
        "Declarar as variáveis de uma forma simples\n",
        "\n",
        "\n"
      ],
      "metadata": {
        "id": "vz6blV_z27Jq"
      }
    },
    {
      "cell_type": "code",
      "source": [
        "x=10 #Declarando a variável e seu valor\n",
        "print(x) #Imprimir a varável\n",
        "\n",
        "#fazendo Operações Aritiméticas com a variável\n",
        "print(x+5)\n",
        "print(x-5)\n",
        "print(x*5)\n",
        "print(x/5)\n",
        "print(x**5)\n",
        "\n",
        "#fazendo Operações Relacionais com a variável\n",
        "print(x>5)\n",
        "print(x<5)\n",
        "print(x==5)\n",
        "print(x!=5)"
      ],
      "metadata": {
        "colab": {
          "base_uri": "https://localhost:8080/"
        },
        "id": "pTEkDf1M47i6",
        "outputId": "de1f581e-b0c7-40e3-9d04-54aac67073fa"
      },
      "execution_count": null,
      "outputs": [
        {
          "output_type": "stream",
          "name": "stdout",
          "text": [
            "10\n",
            "15\n",
            "5\n",
            "50\n",
            "2.0\n",
            "100000\n",
            "True\n",
            "False\n",
            "False\n",
            "True\n"
          ]
        }
      ]
    },
    {
      "cell_type": "code",
      "source": [],
      "metadata": {
        "id": "5zHNNzdW5e-I"
      },
      "execution_count": null,
      "outputs": []
    },
    {
      "cell_type": "markdown",
      "source": [
        "###Visualização de Variáveis e Textos"
      ],
      "metadata": {
        "id": "omT3o3Bispe6"
      }
    },
    {
      "cell_type": "code",
      "source": [
        "x=10;y=20\n",
        "print(\"Conhecendo o comando Print:\")\n",
        "print(x)\n",
        "print(\"x\") #Ao colocar aspas, refere-se ao literal, interno das mesmas\n",
        "print(y)\n",
        "print(\"y\") #Ao colocar aspas, refere-se ao literal, interno das mesmas\n",
        "print(x+y)\n",
        "# É possivel declarar Variáveis com operações ou Textos Prontos\n",
        "equacao= x+y+x**2-2*y\n",
        "nome=\"Felipe Brasil\" #No caso de textos é necessário colocar as aspas\n",
        "print(equacao)\n",
        "print(nome)"
      ],
      "metadata": {
        "colab": {
          "base_uri": "https://localhost:8080/"
        },
        "id": "hAiud_x0s-yT",
        "outputId": "8afec577-351a-44af-b552-3744f0076af4"
      },
      "execution_count": null,
      "outputs": [
        {
          "output_type": "stream",
          "name": "stdout",
          "text": [
            "Conhecendo o comando Print:\n",
            "10\n",
            "x\n",
            "20\n",
            "y\n",
            "30\n",
            "90\n",
            "Felipe Brasil\n"
          ]
        }
      ]
    },
    {
      "cell_type": "markdown",
      "source": [
        "###Concatenação"
      ],
      "metadata": {
        "id": "9atO4i_Ju7Am"
      }
    },
    {
      "cell_type": "code",
      "source": [
        "#Ao separar com \",\" é possível adicionar informações ao \"print\"\n",
        "print(\"O valor de x é:\",x)\n",
        "#Tambem é possivel realizar operações\n",
        "print(\"O valor de y é:\",y,\"E o dobro do valor de y, somado com x é:\",2*y+x)\n",
        "#Concatenando variáveis numérias e de texto, com textos\n",
        "print(\"Eu,\",nome,\"tirei a nota:\",x,\"na prova prática de Pyton.\")\n",
        "#Declarar mais de uma variável na mesma linha\n",
        "print(\"O valor de x é:\",x,\"E o valor de y é:\",y)"
      ],
      "metadata": {
        "colab": {
          "base_uri": "https://localhost:8080/"
        },
        "id": "sZqHMLBGvFMx",
        "outputId": "10928611-e3f1-42bf-fb9c-9accd7619fbe"
      },
      "execution_count": null,
      "outputs": [
        {
          "output_type": "stream",
          "name": "stdout",
          "text": [
            "O valor de x é: 10\n",
            "O valor de y é: 20 E o dobro do valor de y, somado com x é: 50\n",
            "Eu, Felipe Brasil tirei a nota: 10 na prova prática de Pyton.\n",
            "O valor de x é: 10 E o valor de y é: 20\n"
          ]
        }
      ]
    },
    {
      "cell_type": "markdown",
      "source": [
        "###Types"
      ],
      "metadata": {
        "id": "yZ8igRYDynSq"
      }
    },
    {
      "cell_type": "code",
      "source": [
        "type(x) #identificar o tipo da variável\n",
        "print(\"x\",type(x))\n",
        "print(\"nome\",type(nome))\n",
        "num=\"100\" #Não necessariamento um numero será int\n",
        "print(\"num\",type(num))\n",
        "#Formas de Converter Variável\n",
        "num_convert = int(num)  #Criando outra variável convertida\n",
        "print(\"num\",type(num))\n",
        "print(\"num_convert\",type(num_convert))\n"
      ],
      "metadata": {
        "colab": {
          "base_uri": "https://localhost:8080/"
        },
        "id": "IArPW-5Mytjj",
        "outputId": "aaf543cf-d720-4a8a-8666-dc1d8f82de0a"
      },
      "execution_count": null,
      "outputs": [
        {
          "output_type": "stream",
          "name": "stdout",
          "text": [
            "x <class 'int'>\n",
            "nome <class 'str'>\n",
            "num <class 'str'>\n",
            "num <class 'str'>\n",
            "num_convert <class 'int'>\n"
          ]
        }
      ]
    },
    {
      "cell_type": "markdown",
      "source": [
        "###Input\n",
        "* Comando para armazenar informação fornecida pelo Usuário\n",
        "* Toda informação armazenada será Texto (Str)"
      ],
      "metadata": {
        "id": "hOuDUyjvN4ij"
      }
    },
    {
      "cell_type": "code",
      "source": [
        "name = input(\"Digite o nome do usuário:\")\n",
        "print(name)"
      ],
      "metadata": {
        "colab": {
          "base_uri": "https://localhost:8080/"
        },
        "id": "St2vzGonOI8t",
        "outputId": "177c7198-2a0d-4774-f5b9-b7587c8be1ef"
      },
      "execution_count": null,
      "outputs": [
        {
          "output_type": "stream",
          "name": "stdout",
          "text": [
            "Digite o nome do usuário:Felipe Brasil\n",
            "Felipe Brasil\n"
          ]
        }
      ]
    },
    {
      "cell_type": "markdown",
      "source": [
        "##Condicional e Listas"
      ],
      "metadata": {
        "id": "C5wD9QURSaiG"
      }
    },
    {
      "cell_type": "code",
      "source": [
        "# if, obedecendo o critério, fornece a resposta\n",
        "if 5 < 10:\n",
        "  print(\"Correto\")"
      ],
      "metadata": {
        "colab": {
          "base_uri": "https://localhost:8080/"
        },
        "id": "vEJLLhOASomP",
        "outputId": "5ff8c764-27bb-499c-d18b-6e327a313705"
      },
      "execution_count": null,
      "outputs": [
        {
          "output_type": "stream",
          "name": "stdout",
          "text": [
            "Correto\n"
          ]
        }
      ]
    },
    {
      "cell_type": "code",
      "source": [
        "#if/else, da uma resposta para negativa\n",
        "number1=25\n",
        "number2=25\n",
        "if number1 > number2:\n",
        "  print(\"O number1 é maior que o number2\")\n",
        "else:\n",
        "  print(\"O number2 é maior que o number1\")"
      ],
      "metadata": {
        "colab": {
          "base_uri": "https://localhost:8080/"
        },
        "id": "BRHbMedbYz5Z",
        "outputId": "983b04c3-fb26-4d8a-9a0d-68aa72d0a7a1"
      },
      "execution_count": null,
      "outputs": [
        {
          "output_type": "stream",
          "name": "stdout",
          "text": [
            "O number2 é maior que o number1\n"
          ]
        }
      ]
    },
    {
      "cell_type": "code",
      "source": [
        "#if / elif / else, coloca mais condições\n",
        "if number1 > number2:\n",
        "  print(\"O number1 é maior que o number2\")\n",
        "elif number1 < number2:\n",
        "  print(\"O number2 é maior que o number1\")\n",
        "else:\n",
        "  print(\"Os números são iguais\")"
      ],
      "metadata": {
        "colab": {
          "base_uri": "https://localhost:8080/"
        },
        "id": "OwLK01s6ZVjv",
        "outputId": "82e34ac6-e83b-4308-d8cd-ed3984407cb8"
      },
      "execution_count": null,
      "outputs": [
        {
          "output_type": "stream",
          "name": "stdout",
          "text": [
            "Os números são iguais\n"
          ]
        }
      ]
    },
    {
      "cell_type": "markdown",
      "source": [
        "### Condicional com operadores logicos"
      ],
      "metadata": {
        "id": "gS95S464amsi"
      }
    },
    {
      "cell_type": "code",
      "source": [
        "num1=10\n",
        "num2=8\n",
        "num3=5\n",
        "if (num1>num2) and (num1>num3):\n",
        "  print(\"O num1 é o maior\")\n",
        "elif (num2>num1) and (num2>num3):\n",
        "  print(\"O num2 é o maior\")\n",
        "else:\n",
        "  print(\"O num3 é o maior\")"
      ],
      "metadata": {
        "colab": {
          "base_uri": "https://localhost:8080/"
        },
        "id": "B89n-KaQarAw",
        "outputId": "18f15b0a-163d-4ba6-bda1-80c4901f9927"
      },
      "execution_count": null,
      "outputs": [
        {
          "output_type": "stream",
          "name": "stdout",
          "text": [
            "O num1 é o maior\n"
          ]
        }
      ]
    },
    {
      "cell_type": "markdown",
      "source": [
        "### Lista, Tupla e Dicionário"
      ],
      "metadata": {
        "id": "F5ShGSj-_N_H"
      }
    },
    {
      "cell_type": "markdown",
      "source": [
        "####Lista"
      ],
      "metadata": {
        "id": "1ZJs3_VlBL7k"
      }
    },
    {
      "cell_type": "code",
      "source": [
        "#Lista []\n",
        "lista = [5,\"Felipe\",8.6] #pode ser adicionado todos os tipos de variável Str, Int e Float"
      ],
      "metadata": {
        "id": "ekX7VD6B_Sek"
      },
      "execution_count": null,
      "outputs": []
    },
    {
      "cell_type": "code",
      "source": [
        "type(lista) #comando para verificar se é uma lista"
      ],
      "metadata": {
        "colab": {
          "base_uri": "https://localhost:8080/"
        },
        "id": "T-cy7vWK__Cw",
        "outputId": "33db8534-59fe-4cc3-9261-40129e240e21"
      },
      "execution_count": null,
      "outputs": [
        {
          "output_type": "execute_result",
          "data": {
            "text/plain": [
              "list"
            ]
          },
          "metadata": {},
          "execution_count": 2
        }
      ]
    },
    {
      "cell_type": "code",
      "source": [
        "lista.append(\"Brasil\") #comando para adicionar um elemento na lista\n",
        "print(lista) #comando para apresentar a lista completa\n",
        "print(lista[1]) #Comando para apresentar integrante da lista"
      ],
      "metadata": {
        "colab": {
          "base_uri": "https://localhost:8080/"
        },
        "id": "8jQSNYJiABII",
        "outputId": "adc9438d-0f48-47bb-b1a6-bda383582843"
      },
      "execution_count": null,
      "outputs": [
        {
          "output_type": "stream",
          "name": "stdout",
          "text": [
            "[5, 'Felipe', 8.6, 'Brasil', 'Brasil', 'Brasil']\n",
            "Felipe\n"
          ]
        }
      ]
    },
    {
      "cell_type": "markdown",
      "source": [
        "####Tupla"
      ],
      "metadata": {
        "id": "V11MkrRnBUHg"
      }
    },
    {
      "cell_type": "code",
      "source": [
        "#Tupla (). NÃO É POSSIVEL ADICIONAR NOVOS TERMOS\n",
        "tupla = (5,\"Felipe\",8.6)\n",
        "type(tupla)"
      ],
      "metadata": {
        "colab": {
          "base_uri": "https://localhost:8080/"
        },
        "id": "pZcUo_ICBWYl",
        "outputId": "bfd47ad8-6c53-49ca-c6dd-2e1c5b378879"
      },
      "execution_count": null,
      "outputs": [
        {
          "output_type": "execute_result",
          "data": {
            "text/plain": [
              "tuple"
            ]
          },
          "metadata": {},
          "execution_count": 6
        }
      ]
    },
    {
      "cell_type": "markdown",
      "source": [
        "####Dicionário"
      ],
      "metadata": {
        "id": "ErVqygXIB7gm"
      }
    },
    {
      "cell_type": "code",
      "source": [
        "#Dicionário, é apresentado como se fosse apresentação de variável\n",
        "dicionario={\"nome\": \"Felipe\",\"idade\":28, \"cidade\":\"Salvador\"}"
      ],
      "metadata": {
        "id": "H9xe6-0KB-yh"
      },
      "execution_count": null,
      "outputs": []
    },
    {
      "cell_type": "code",
      "source": [
        "type(dicionario)"
      ],
      "metadata": {
        "colab": {
          "base_uri": "https://localhost:8080/"
        },
        "id": "0pie3DYrCqZJ",
        "outputId": "0bf527bf-67a8-4735-e433-2813f9d4daf4"
      },
      "execution_count": null,
      "outputs": [
        {
          "output_type": "execute_result",
          "data": {
            "text/plain": [
              "dict"
            ]
          },
          "metadata": {},
          "execution_count": 10
        }
      ]
    },
    {
      "cell_type": "code",
      "source": [
        "print(dicionario)"
      ],
      "metadata": {
        "colab": {
          "base_uri": "https://localhost:8080/"
        },
        "id": "8GbsQXtdC6ff",
        "outputId": "b6080a94-6870-4bde-8b6f-da3ace65a78e"
      },
      "execution_count": null,
      "outputs": [
        {
          "output_type": "stream",
          "name": "stdout",
          "text": [
            "{'nome': 'Felipe', 'idade': 28, 'cidade': 'Salvador'}\n"
          ]
        }
      ]
    },
    {
      "cell_type": "code",
      "source": [
        "#adicionar infomação\n",
        "dicionario[\"estado\"]=\"Bahia\"\n",
        "print(dicionario)"
      ],
      "metadata": {
        "colab": {
          "base_uri": "https://localhost:8080/"
        },
        "id": "HtVxzNtwDATN",
        "outputId": "859ec96c-63db-4803-a059-e68d37ccf407"
      },
      "execution_count": null,
      "outputs": [
        {
          "output_type": "stream",
          "name": "stdout",
          "text": [
            "{'nome': 'Felipe', 'idade': 28, 'cidade': 'Salvador', 'estado': 'Bahia'}\n"
          ]
        }
      ]
    },
    {
      "cell_type": "markdown",
      "source": [
        "### Estrutura de Repetição"
      ],
      "metadata": {
        "id": "h1J9HLoWVaE5"
      }
    },
    {
      "cell_type": "markdown",
      "source": [
        "####For"
      ],
      "metadata": {
        "id": "ZHjgn6MtVk7A"
      }
    },
    {
      "cell_type": "code",
      "source": [
        "#For Range  Estrutura: for <Variável> in <coleção>: <Espaço><Comandos>\n",
        "for contador in range(10):\n",
        "  print(contador)"
      ],
      "metadata": {
        "colab": {
          "base_uri": "https://localhost:8080/"
        },
        "id": "sopaMMhAVgUU",
        "outputId": "aebdb498-c742-454f-f145-81c5f9fb16ed"
      },
      "execution_count": null,
      "outputs": [
        {
          "output_type": "stream",
          "name": "stdout",
          "text": [
            "0\n",
            "1\n",
            "2\n",
            "3\n",
            "4\n",
            "5\n",
            "6\n",
            "7\n",
            "8\n",
            "9\n"
          ]
        }
      ]
    },
    {
      "cell_type": "code",
      "source": [
        "#For Range + Break\n",
        "for contador in range(10):\n",
        "  print(contador)\n",
        "  if contador == 5:\n",
        "    break"
      ],
      "metadata": {
        "colab": {
          "base_uri": "https://localhost:8080/"
        },
        "id": "rqPzYwzYWXoX",
        "outputId": "b6c86dfb-7da2-424f-91ce-460a594a0878"
      },
      "execution_count": null,
      "outputs": [
        {
          "output_type": "stream",
          "name": "stdout",
          "text": [
            "0\n",
            "1\n",
            "2\n",
            "3\n",
            "4\n",
            "5\n"
          ]
        }
      ]
    },
    {
      "cell_type": "code",
      "source": [
        "lista = [\"Felipe\",\"Pedro\",\"Maria\"]\n",
        "for val in lista:\n",
        "  print(val)"
      ],
      "metadata": {
        "colab": {
          "base_uri": "https://localhost:8080/"
        },
        "id": "NltG3T-BWqHD",
        "outputId": "efdcad8c-5482-4f3e-8534-45f4b4e5839d"
      },
      "execution_count": null,
      "outputs": [
        {
          "output_type": "stream",
          "name": "stdout",
          "text": [
            "Felipe\n",
            "Pedro\n",
            "Maria\n"
          ]
        }
      ]
    },
    {
      "cell_type": "code",
      "source": [
        "#numerar Lista\n",
        "for i,val in enumerate(lista):\n",
        "  print(i,val)"
      ],
      "metadata": {
        "colab": {
          "base_uri": "https://localhost:8080/"
        },
        "id": "X0P4tPwuyC1R",
        "outputId": "a6441ced-e235-4da2-b68e-fe9ab5f047db"
      },
      "execution_count": null,
      "outputs": [
        {
          "output_type": "stream",
          "name": "stdout",
          "text": [
            "0 Felipe\n",
            "1 Pedro\n",
            "2 Maria\n"
          ]
        }
      ]
    },
    {
      "cell_type": "code",
      "source": [
        "#Aplicar Operadores na lista com for\n",
        "liste= [2,5,7]\n",
        "for val in liste:\n",
        "  val+=1\n",
        "  print(val)"
      ],
      "metadata": {
        "colab": {
          "base_uri": "https://localhost:8080/"
        },
        "id": "sgccUEwUy3tu",
        "outputId": "175b04a4-2b8d-4cc6-b242-3cfb99716a35"
      },
      "execution_count": null,
      "outputs": [
        {
          "output_type": "stream",
          "name": "stdout",
          "text": [
            "3\n",
            "6\n",
            "8\n"
          ]
        }
      ]
    },
    {
      "cell_type": "code",
      "source": [
        "for val in liste:\n",
        "  val*=2\n",
        "  print(val)"
      ],
      "metadata": {
        "colab": {
          "base_uri": "https://localhost:8080/"
        },
        "id": "JPo8Q8AazLz_",
        "outputId": "826ae2fd-902d-4ed7-8483-52c537a287aa"
      },
      "execution_count": null,
      "outputs": [
        {
          "output_type": "stream",
          "name": "stdout",
          "text": [
            "4\n",
            "10\n",
            "14\n"
          ]
        }
      ]
    },
    {
      "cell_type": "markdown",
      "source": [
        "####While"
      ],
      "metadata": {
        "id": "yu5cmzyQzsGV"
      }
    },
    {
      "cell_type": "code",
      "source": [
        "#While estrutura de Repetição enquanto obedece uma condição\n",
        "#Estrutura: While <condição>: / <Comandos> / Else: <comandos>"
      ],
      "metadata": {
        "id": "D07DwP-TzunY"
      },
      "execution_count": null,
      "outputs": []
    },
    {
      "cell_type": "code",
      "source": [
        "a=1\n",
        "while a<10:\n",
        "  print(a)\n",
        "  a+=1"
      ],
      "metadata": {
        "colab": {
          "base_uri": "https://localhost:8080/"
        },
        "id": "e3XUfzMr0Z3V",
        "outputId": "a3ffe141-9642-4ec1-cf25-1fbb44ab5809"
      },
      "execution_count": null,
      "outputs": [
        {
          "output_type": "stream",
          "name": "stdout",
          "text": [
            "1\n",
            "2\n",
            "3\n",
            "4\n",
            "5\n",
            "6\n",
            "7\n",
            "8\n",
            "9\n"
          ]
        }
      ]
    },
    {
      "cell_type": "code",
      "source": [
        "a= 1\n",
        "while a<10:\n",
        "  print(a)\n",
        "  a*=2\n",
        "else:\n",
        "  print(\"Fim\")"
      ],
      "metadata": {
        "colab": {
          "base_uri": "https://localhost:8080/"
        },
        "id": "nAHZhTMS06kk",
        "outputId": "845f5686-e909-4cb3-cd06-b209e96ed2bc"
      },
      "execution_count": null,
      "outputs": [
        {
          "output_type": "stream",
          "name": "stdout",
          "text": [
            "1\n",
            "2\n",
            "4\n",
            "8\n",
            "Fim\n"
          ]
        }
      ]
    }
  ]
}